{
 "cells": [
  {
   "cell_type": "markdown",
   "metadata": {},
   "source": [
    "# ROBOTICS - Tutorial 1 : Direct and inverse kinematics\n",
    "\n"
   ]
  },
  {
   "cell_type": "markdown",
   "metadata": {},
   "source": [
    "## Introduction"
   ]
  },
  {
   "cell_type": "markdown",
   "metadata": {
    "raw_mimetype": "text/latex"
   },
   "source": [
    "We propose to study the __geometric__ and __kinematic__ modeling of a manipulator arm developed by the *Interactive Robotics Laboratory* of the *CEA List*. This robot, which kinematic chain is of serial type, has $6$ revolute joints ($j_i$ with $i=1,\\ldots,6$).\n",
    "\n",
    "\n",
    "<img src=\"Images/VueRobot.png\" width=\"400\">\n",
    "\n",
    "\n",
    "The numerical values of the robot parameters, required for the completion of this tutorial, are specified in the following table.\n",
    "\n",
    "$$\n",
    "\\begin{aligned}\n",
    "& \\text {Table. Numerical values of the robot parameters.}\\\\\n",
    "&\\begin{array}{cccc}\n",
    "\\hline\n",
    "\t\t\\text{Parameters} &\t\\text{Numerical values} &\t\\text{Type of parameter} \\\\ \n",
    "\t\t\\hline\n",
    "\t\td_3 & 0.7 m & \\text{Geometric parameter} \\\\\n",
    "\t\tr_1 & 0.5 m & \\text{Geometric parameter} \\\\\n",
    "\t\tr_4 & 0.2 m & \\text{Geometric parameter} \\\\\n",
    "        r_E & 0.1 m & \\text{Geometric parameter} \\\\\n",
    "\\hline\n",
    "\\end{array}\n",
    "\\end{aligned}\n",
    "$$\n",
    "\n",
    "The use of *Python* is required to perform the tutorial. Please import the following required mathematical libraires to start the tutorial."
   ]
  },
  {
   "cell_type": "code",
   "execution_count": 1,
   "metadata": {},
   "outputs": [],
   "source": [
    "import numpy as np\n",
    "import math as m\n",
    "import functools as fu\n",
    "from numpy.linalg import eig\n",
    "import matplotlib.pyplot as plt\n",
    "import random"
   ]
  },
  {
   "cell_type": "markdown",
   "metadata": {},
   "source": [
    "In the following, you will progressively update a *Dictionnary* in Python containing the robot parameters, named __robotParameters__.\n",
    "\n",
    "Please initialize it as follows: \n",
    "*robotParameters = { 'nJoints': 6, 'jointsType': ['R','R','R','R','R','R']}*"
   ]
  },
  {
   "cell_type": "code",
   "execution_count": 2,
   "metadata": {},
   "outputs": [],
   "source": [
    "robotParameters = { 'nJoints': 6, 'jointsType': ['R','R','R','R','R','R']}"
   ]
  },
  {
   "cell_type": "markdown",
   "metadata": {},
   "source": [
    "You will also progressively build a *Class* containing some *attributes* related to the robot. To do so, you will be asked to program some of its *methods* in the tutorial. This class is named __RobotModel__ and is defined in the file *ClassRobotModel*.\n",
    "\n",
    "Please initialize it as follows. You will see printing the resulting *attributes* of the *Class* __RobotModel__."
   ]
  },
  {
   "cell_type": "code",
   "execution_count": 3,
   "metadata": {},
   "outputs": [
    {
     "name": "stdout",
     "output_type": "stream",
     "text": [
      "Attribute (int): self.numberJoints =  6\n",
      "Attribute (list): self.jointsType =  ['R', 'R', 'R', 'R', 'R', 'R']\n",
      "Attribute (list - 0 if self.jointsType[i] == 'R' / 1 if self.jointsType[i] == 'P'): self.sigma =  [0, 0, 0, 0, 0, 0]\n"
     ]
    }
   ],
   "source": [
    "from ClassRobotModel import RobotModel\n",
    "RobotTutorials = RobotModel( **robotParameters )"
   ]
  },
  {
   "cell_type": "markdown",
   "metadata": {},
   "source": [
    "## Direct geometric model"
   ]
  },
  {
   "cell_type": "markdown",
   "metadata": {},
   "source": [
    "__Q1.__ Fill in the following figure giving the frames attached to the successive links of the robot according to the *Modified Denavit-Hartenberg (MDH)* parameters defining the spatial arrangement of the robot structure (axis names and geometric distances should be reported on the completed figure).\n",
    "\n",
    "<img src=\"Images/ParametresDH.png\" width=\"600\">"
   ]
  },
  {
   "cell_type": "markdown",
   "metadata": {},
   "source": [
    "__Q2.__ To fill the following table with the geometric parameters of the robot:\n",
    "\n",
    "$$\n",
    "\\begin{array}{ccccc}\n",
    "\t\t\\hline\n",
    "\t\t\\hline\n",
    "\t\t i  & \\alpha_i & d_i & \\theta_i & r_i \\\\\n",
    "\t\t\\hline\n",
    "\t\t\\hline\n",
    "\t\t1  & 0 & 0 & 0 & 0.5 \\\\\n",
    "\t\t\\hline\n",
    "\t\t2  & \\pi/2 & 0 & 0 & 0 \\\\\n",
    "\t\t\\hline\n",
    "\t\t3  & 0 & 0.7 & \\pi/2 & 0 \\\\\n",
    "\t\t\\hline\n",
    "\t\t4  & \\pi/2 & 0 & 0 & 0.2 \\\\\n",
    "\t\t\\hline\n",
    "\t\t5  & -\\pi/2 & 0 & 0 & 0 \\\\\n",
    "\t\t\\hline\n",
    "\t\t6  & \\pi/2 & 0 & 0 & 0 \\\\\n",
    "\t\t\\hline\n",
    "\t\t\\hline\n",
    "\\end{array}\n",
    "$$\n",
    "\n",
    "please complete the file named *DHM_parameters.txt* in the current repository."
   ]
  },
  {
   "cell_type": "markdown",
   "metadata": {},
   "source": [
    "Then, update the dictionnary __robotParameters__ with the DHM parameters as follows: \n",
    "\n",
    "*robotParameters['fileDHM'] = \"DHM_parameters.txt\"*\n",
    "\n",
    "*RobotTutorials = ClassRobotModel.RobotModel( **robotParameters )*\n",
    "\n",
    "Look at the resulting *attribute* named *\"self.tableDHM\"*"
   ]
  },
  {
   "cell_type": "code",
   "execution_count": 4,
   "metadata": {},
   "outputs": [
    {
     "name": "stdout",
     "output_type": "stream",
     "text": [
      "Attribute (int): self.numberJoints =  6\n",
      "Attribute (list): self.jointsType =  ['R', 'R', 'R', 'R', 'R', 'R']\n",
      "Attribute (list - 0 if self.jointsType[i] == 'R' / 1 if self.jointsType[i] == 'P'): self.sigma =  [0, 0, 0, 0, 0, 0]\n",
      "Attribute (list - float): self.tableDHM =  [[0.0, 0.0, 0.0, 0.5], [1.5707963267948966, 0.0, 0.0, 0.0], [0.0, 0.7, 1.5707963267948966, 0.0], [1.5707963267948966, 0.0, 0.0, 0.2], [-1.5707963267948966, 0.0, 0.0, 0.0], [1.5707963267948966, 0.0, 0.0, 0.0]]\n"
     ]
    }
   ],
   "source": [
    "robotParameters['fileDHM'] = \"DHM_parameters.txt\"\n",
    "RobotTutorials = RobotModel( **robotParameters )"
   ]
  },
  {
   "cell_type": "markdown",
   "metadata": {},
   "source": [
    "__Q3-a.__ Write a generic function $TransformMatElem(\\alpha_i, d_i, \\theta_i, r_i)$ which output argument is the homogeneous transform matrix *g* between two successive frames."
   ]
  },
  {
   "cell_type": "code",
   "execution_count": 5,
   "metadata": {},
   "outputs": [],
   "source": [
    "@staticmethod\n",
    "def TransformMatElem(alpha_i, d_i, theta_i, r_i):\n",
    "    \"\"\" \n",
    "    Computation of the homogeneous transform matrix between two successive frames R_(i-1) and R_i\n",
    "    \n",
    "    Input: \n",
    "        - Four scalar parameters given by the Modified Denavit-Hartenberg (MDH) convention\n",
    "         \n",
    "    Output: \n",
    "        - Homogeneous transform matrix g_(i-1,i) as a \"np.array\"\n",
    "    \"\"\"\n",
    "    \n",
    "    x = np.zeros((4,4))\n",
    "    cos_theta = np.cos(theta_i)\n",
    "    sin_theta = np.sin(theta_i)\n",
    "    cos_alpha = np.cos(alpha_i)\n",
    "    sin_alpha = np.sin(alpha_i)\n",
    "    \n",
    "    x[0, 0] = cos_theta\n",
    "    x[0, 1] = -sin_theta\n",
    "    x[0, 2] = 0\n",
    "    x[0, 3] = d_i\n",
    "    x[1, 0] = cos_alpha * sin_theta\n",
    "    x[1, 1] = cos_alpha * cos_theta\n",
    "    x[1, 2] = -sin_alpha\n",
    "    x[1, 3] = -r_i * sin_alpha\n",
    "    x[2, 0] = sin_alpha * sin_theta\n",
    "    x[2, 1] = sin_alpha * cos_theta\n",
    "    x[2, 2] = cos_alpha\n",
    "    x[2, 3] = r_i * cos_alpha\n",
    "    x[3, 0] = 0\n",
    "    x[3, 1] = 0\n",
    "    x[3, 2] = 0\n",
    "    x[3, 3] = 1\n",
    "    \n",
    "    return x\n",
    "\n",
    "RobotModel.TransformMatElem = TransformMatElem"
   ]
  },
  {
   "cell_type": "markdown",
   "metadata": {},
   "source": [
    "__Q3-b.__Write a function $ComputeDGM(\\text{self}, q)$ which computes the direct geometric model of any robot with series open kinematic chain, taking as input arguments the current configuration."
   ]
  },
  {
   "cell_type": "code",
   "execution_count": 6,
   "metadata": {},
   "outputs": [],
   "source": [
    "def ComputeDGM(self, q_cur):\n",
    "    \"\"\"\n",
    "    Computation of the Direct Geometric Model (DGM) of the robot given by its MDH parameters for the joint configuration q_cur\n",
    "    \n",
    "    Inputs: \n",
    "      - List of robot's geometric parameters \"self.tableDHM\" given by the Modified Denavit-Hartenberg (MDH) convention\n",
    "      - Number of joints of the robot \"self.numberJoints\"\n",
    "      - List of type of joints of the robot: \"self.sigma\"\n",
    "      - Current joint configuration \"q_cur\"\n",
    "    \n",
    "    Outputs: \n",
    "      - List of the successive homogeneous transform matrices: \"self.list_g_i_1_i = [g_01, ..., g_N_1_N]\"\n",
    "      - List of the successive resulting homogeneous transform matrices: \"self.list_g_0i = [g_01, g_02, ..., g_ON]\"\n",
    "    \"\"\"\n",
    "    \n",
    "    self.list_g_i_1_i = []\n",
    "    self.list_g_0i = []\n",
    "    for i in range(self.numberJoints):\n",
    "        \n",
    "        if self.jointsType[i] == 'R': # rotoide\n",
    "            g_i_1_i = self.TransformMatElem(self.tableDHM[i][0],self.tableDHM[i][1],self.tableDHM[i][2]+q_cur[i],self.tableDHM[i][3])\n",
    "        else: # trapezoide\n",
    "            g_i_1_i = self.TransformMatElem(self.tableDHM[i][0],self.tableDHM[i][1],self.tableDHM[i][2],self.tableDHM[i][3]+q_cur[i])\n",
    "        \n",
    "        self.list_g_i_1_i.append(g_i_1_i)\n",
    "        \n",
    "        if i == 0:\n",
    "            self.list_g_0i.append(g_i_1_i)\n",
    "        else:\n",
    "            self.list_g_0i.append(self.list_g_0i[i-1] @ g_i_1_i)\n",
    "        \n",
    "        \n",
    "            \n",
    "RobotModel.ComputeDGM = ComputeDGM"
   ]
  },
  {
   "cell_type": "markdown",
   "metadata": {},
   "source": [
    "__Q3-c.__ We consider an end-effector mounted at the end of the robot arm. The frame $\\mathcal{R}_E$ attached to the end-effector of the robot is defined by a translation of the frame  $\\mathcal{R}_6$ by a distance $r_E$ along the $z_6$ axis.\n",
    "\n",
    "Specify the four DHM parameters for the tool frame description in the field below.\n"
   ]
  },
  {
   "cell_type": "code",
   "execution_count": 7,
   "metadata": {},
   "outputs": [
    {
     "name": "stdout",
     "output_type": "stream",
     "text": [
      "Attribute (int): self.numberJoints =  6\n",
      "Attribute (list): self.jointsType =  ['R', 'R', 'R', 'R', 'R', 'R']\n",
      "Attribute (list - 0 if self.jointsType[i] == 'R' / 1 if self.jointsType[i] == 'P'): self.sigma =  [0, 0, 0, 0, 0, 0]\n",
      "Attribute (list - float): self.tableDHM =  [[0.0, 0.0, 0.0, 0.5], [1.5707963267948966, 0.0, 0.0, 0.0], [0.0, 0.7, 1.5707963267948966, 0.0], [1.5707963267948966, 0.0, 0.0, 0.2], [-1.5707963267948966, 0.0, 0.0, 0.0], [1.5707963267948966, 0.0, 0.0, 0.0]]\n",
      "Attribute (list - float): self.toolDHM =  [0, 0, 0, 0.1]\n"
     ]
    }
   ],
   "source": [
    "robotParameters['toolFrameDHM'] = [ 0, 0, 0, 0.1 ]\n",
    "RobotTutorials = RobotModel( **robotParameters )"
   ]
  },
  {
   "cell_type": "markdown",
   "metadata": {},
   "source": [
    "Using the results of previous questions, write a function $ComputeToolPose(\\text{self})$  that computes the homogeneous transform matrix $\\overline{g}_{0E}$. This matrix gives the position and the orientation of the frame $\\mathcal{R}_E$ attached to the end-effector of the robot, expressed in the base frame $\\mathcal{R}_0$."
   ]
  },
  {
   "cell_type": "code",
   "execution_count": 8,
   "metadata": {},
   "outputs": [],
   "source": [
    "def ComputeToolPose(self):\n",
    "    \"\"\" \n",
    "     Computation of the homogeneous transform matrix g0E which gives the position and the orientation of the frame R_E attached to the end-effector of the robot, expressed in the base frame R_0 evaluated at the joint configuration q_cur\n",
    "\n",
    "     Inputs: \n",
    "        - List of the successive homogeneous transform matrices \"self.list_g_0i\"\n",
    "        - Number of joints of the robot \"self.numberJoints\"\n",
    "        - List of the geometric parameters of the tool \"self.toolDHM\" given by the Modified Denavit-Hartenberg (MDH) convention\n",
    "\n",
    "     Output: \n",
    "        - Homogeneous transform matrix \"self.g_0E\"\n",
    "    \"\"\"\n",
    "    \n",
    "    dhm_E = self.toolDHM\n",
    "    g = self.TransformMatElem(dhm_E[0], dhm_E[1], dhm_E[2], dhm_E[3])\n",
    "    self.g_0E = self.list_g_0i[-1] @ g\n",
    "            \n",
    "RobotModel.ComputeToolPose = ComputeToolPose"
   ]
  },
  {
   "cell_type": "markdown",
   "metadata": {},
   "source": [
    "In the following, we consider two joint configurations $q=\\left[q_1, \\ldots, q_6\\right]^t$ of the robot: $q_i=\\left[-\\frac{\\pi}{2}, 0 , -\\frac{\\pi}{2} , -\\frac{\\pi}{2} , -\\frac{\\pi}{2} , -\\frac{\\pi}{2} \\right]^t$ and $q_f=\\left[0, \\frac{\\pi}{4}  , 0 , \\frac{\\pi}{2} , \\frac{\\pi}{2} , 0\\right]^t$.\n",
    "\n",
    "Indicate what are the homogeneous transform matrices $\\overline{g}_{0E}$ evaluated in these two confugrations."
   ]
  },
  {
   "cell_type": "code",
   "execution_count": 9,
   "metadata": {},
   "outputs": [
    {
     "name": "stdout",
     "output_type": "stream",
     "text": [
      "Homogenenous transform matrices for q_i:\n",
      "[[-0.  -0.  -1.  -0.1]\n",
      " [ 1.  -0.  -0.  -0.7]\n",
      " [-0.  -1.   0.   0.3]\n",
      " [ 0.   0.   0.   1. ]]\n",
      "\n",
      "\n",
      "Homogenenous transform matrices for q_f:\n",
      "[[-0.707  0.707  0.     0.636]\n",
      " [-0.    -0.    -1.    -0.1  ]\n",
      " [-0.707 -0.707  0.     1.136]\n",
      " [ 0.     0.     0.     1.   ]]\n"
     ]
    }
   ],
   "source": [
    "qi = [-np.pi/2, 0, -np.pi/2, -np.pi/2, -np.pi/2, -np.pi/2]\n",
    "RobotTutorials.ComputeDGM(qi)\n",
    "RobotTutorials.ComputeToolPose()\n",
    "print(\"Homogenenous transform matrices for q_i:\")\n",
    "print(np.around(RobotTutorials.g_0E, 3))\n",
    "\n",
    "print()\n",
    "print()\n",
    "\n",
    "print(\"Homogenenous transform matrices for q_f:\")\n",
    "qf = [0, np.pi/4, 0, np.pi/2, np.pi/2, 0]\n",
    "RobotTutorials.ComputeDGM(qf)\n",
    "RobotTutorials.ComputeToolPose()\n",
    "print(np.around(RobotTutorials.g_0E, 3))"
   ]
  },
  {
   "cell_type": "markdown",
   "metadata": {},
   "source": [
    "__Q4.__ What are the values of positions $P_x, P_y, P_z$ and the parameters related to the orientation $R_{n,q}$ ($n$ being the direction vector and $q \\in \\left[0,\\pi\\right]$ the rotation angle such that $R_{n,q}=R_{0E}$) of the end-effector frame for the two joint configurations $q_i=\\left[-\\frac{\\pi}{2}, 0 , -\\frac{\\pi}{2} , -\\frac{\\pi}{2} , -\\frac{\\pi}{2} , -\\frac{\\pi}{2} \\right]^t$ and $q_f=\\left[0, \\frac{\\pi}{4}  , 0 , \\frac{\\pi}{2} , \\frac{\\pi}{2} , 0\\right]^t$ ($q=\\left[q_1, \\ldots, q_6\\right]^t$)?\n",
    "To do so, write a function $DescribeToolFrame(\\text{self})$ that computes the position vector and the parameters related to the orientation of the end-effector frame for the current configuration."
   ]
  },
  {
   "cell_type": "code",
   "execution_count": 10,
   "metadata": {},
   "outputs": [],
   "source": [
    "def DescribeToolFrame(self):\n",
    "    \"\"\" \n",
    "        Computation of the position vector and the parameters related to the orientation R_n,q of the end-effector frame for the configuration q as specified in the constructor function \n",
    "                  \n",
    "        Input: \n",
    "           - Direct Geometric Model (DGM) of the robot including its end-effector through \"self.g_0E\"\n",
    "         \n",
    "        Outputs: \n",
    "           - Values of positions P=[Px, Py, Pz]' (in m) of the origin of frame R_E w.r.t. R_0 given in R_0: \"self.P\"\n",
    "           - Orientation parameters R_n,q, as follows:\n",
    "                   - \"self.n\": being the direction vector\n",
    "                   - \"self.q\" in [0,pi] the rotation angle in rad such that R_n,q = R_0E\n",
    "    \"\"\"\n",
    "    \n",
    "    R = self.g_0E[:3, :3]\n",
    "    self.P = self.g_0E[:3, 3]\n",
    "    \n",
    "    atan1 = 0.5 * np.sqrt((R[2][1] - R[1][2])**2 + (R[0][2] - R[2][0])**2 + (R[1][0] - R[0][1])**2)\n",
    "    atan2 = 0.5 * (R[0][0] + R[1][1] + R[2][2] - 1)\n",
    "    \n",
    "    self.q = np.arctan2(atan1, atan2)\n",
    "    \n",
    "    if np.sin(self.q) != 0:\n",
    "        self.n = 0.5 * np.array([ (R[2][1] - R[1][2])/np.sin(self.q), (R[0][2] - R[2][0])/np.sin(self.q), (R[1][0] - R[0][1])/np.sin(self.q) ])\n",
    "    else:\n",
    "        print(\"ERROR\")\n",
    "    \n",
    "        \n",
    "RobotModel.DescribeToolFrame = DescribeToolFrame        "
   ]
  },
  {
   "cell_type": "code",
   "execution_count": 11,
   "metadata": {},
   "outputs": [
    {
     "name": "stdout",
     "output_type": "stream",
     "text": [
      "For q_i:\n",
      "P = [-0.1 -0.7  0.3]\n",
      "n = [-0.577 -0.577  0.577]\n",
      "q = 2.094\n",
      "\n",
      "\n",
      "For q_f:\n",
      "P = [ 0.636 -0.1    1.136]\n",
      "n = [ 0.281  0.679 -0.679]\n",
      "q = 2.594\n"
     ]
    }
   ],
   "source": [
    "qi = [-np.pi/2, 0, -np.pi/2, -np.pi/2, -np.pi/2, -np.pi/2]\n",
    "RobotTutorials.ComputeDGM(qi)\n",
    "RobotTutorials.ComputeToolPose()\n",
    "RobotTutorials.DescribeToolFrame()\n",
    "print(\"For q_i:\")\n",
    "print(\"P =\", np.around(RobotTutorials.P, 3))\n",
    "print(\"n =\", np.around(RobotTutorials.n, 3))\n",
    "print(\"q =\", np.around(RobotTutorials.q, 3))\n",
    "\n",
    "print()\n",
    "print()\n",
    "\n",
    "qf = [0, np.pi/4, 0, np.pi/2, np.pi/2, 0]\n",
    "RobotTutorials.ComputeDGM(qf)\n",
    "RobotTutorials.ComputeToolPose()\n",
    "RobotTutorials.DescribeToolFrame()\n",
    "print(\"For q_f:\")\n",
    "print(\"P =\", np.around(RobotTutorials.P, 3))\n",
    "print(\"n =\", np.around(RobotTutorials.n, 3))\n",
    "print(\"q =\", np.around(RobotTutorials.q, 3))"
   ]
  },
  {
   "cell_type": "markdown",
   "metadata": {},
   "source": [
    "## Direct kinematic model"
   ]
  },
  {
   "cell_type": "markdown",
   "metadata": {},
   "source": [
    "__Q5.__ Write a function $ComputeJac\\left(self, q\\right)$ which output is the Jacobian matrix ${}^0J(q)$ (computed by the method of velocities composition).\n",
    "\n",
    "Reminder: the Jacobian matrix relates the velocities in the task coordinates of the end-effector frame in $\\mathcal{R}_0$, for a given joint configuration $q$, to the joint velocities:\n",
    "\\begin{align*}\n",
    "{}^0\\mathcal{V}_{0,E}&= \\begin{bmatrix}^0V_{0,E}\\left(O_E\\right) \\\\ ^0\\omega_{0,E} \\end{bmatrix} = \\begin{bmatrix} {}^0J_v \\left(q\\right)  \\\\ {}^0J_{\\omega} \\left(q\\right)\\end{bmatrix} \\dot{q} = {}^0J\\left(q\\right) \\dot{q}\n",
    "\\end{align*}"
   ]
  },
  {
   "cell_type": "code",
   "execution_count": 12,
   "metadata": {},
   "outputs": [],
   "source": [
    "def ComputeJac(self, q_cur):\n",
    "   \"\"\" \n",
    "   Computation of the Jacobian matrix mapping the joint velocities to the velocities of the end-effector for a joint configuration \"q_cur\"\n",
    "            \n",
    "   Inputs: \n",
    "      - List defining the types of joints : \"self.jointsType\" \n",
    "      - Number of joints of the robot: \"self.numberJoints\"\n",
    "      - Current configuration \"q_cur\"\n",
    "   \n",
    "   Output: \n",
    "      - Jacobian matrix 0_J in R_0: \"self.oJ\" as np.array\n",
    "   \"\"\"\n",
    "   \n",
    "   self.ComputeDGM(q_cur)\n",
    "   self.ComputeToolPose()\n",
    "   self.DescribeToolFrame()\n",
    "        \n",
    "   for i in range(self.numberJoints):\n",
    "      g_0i = self.list_g_0i[i]\n",
    "      R_0i = g_0i[:3, :3]\n",
    "      \n",
    "      if self.jointsType[i] == \"R\": # rotoide\n",
    "         Z_i = np.array([0, 0, 1]).reshape((3, 1))\n",
    "         J_w = R_0i @ Z_i\n",
    "         \n",
    "         p_iE = self.P - g_0i[:3, 3]\n",
    "         \n",
    "         J_v = np.cross(J_w.flatten(), p_iE)\n",
    "         J_v = J_v.reshape((3, 1))\n",
    "         \n",
    "      else: # trapezoide\n",
    "         Z_i = self.n.reshape((3, 1))\n",
    "         J_v = R_0i @ Z_i\n",
    "         J_w = np.array([0, 0, 0]).reshape((3, 1))\n",
    "      \n",
    "      if i == 0:\n",
    "         self.oJ = np.array(np.vstack((J_v, J_w)))\n",
    "      else:\n",
    "         self.oJ = np.hstack((self.oJ, np.array(np.vstack((J_v, J_w)))))\n",
    "   \n",
    "        \n",
    "RobotModel.ComputeJac = ComputeJac  "
   ]
  },
  {
   "cell_type": "markdown",
   "metadata": {},
   "source": [
    "What are the values of the twists at $O_E$ evaluated with $q=q_i$ and $q=q_f$ with the joint velocities $\\dot q = \\left[0.5, 1.0, -0.5, 0.5, 1.0, -0.5\\right]^t$?"
   ]
  },
  {
   "cell_type": "code",
   "execution_count": 13,
   "metadata": {
    "scrolled": true
   },
   "outputs": [
    {
     "name": "stdout",
     "output_type": "stream",
     "text": [
      "For q_i:\n",
      "V_0N = [ 0.35 -0.1   0.6   0.   -1.   -0.  ]\n",
      "\n",
      "\n",
      "For q_f:\n",
      "V_0N = [-0.551  0.318  0.46   1.061 -0.     0.146]\n"
     ]
    }
   ],
   "source": [
    "dq_dt = np.array([0.5, 1, -0.5, 0.5, 1, -0.5])\n",
    "\n",
    "qi = [-np.pi/2, 0, -np.pi/2, -np.pi/2, -np.pi/2, -np.pi/2]\n",
    "RobotTutorials.ComputeJac(qi)\n",
    "V_0N = RobotTutorials.oJ @ dq_dt\n",
    "print(\"For q_i:\")\n",
    "print(\"V_0N =\", np.around(V_0N, 3))\n",
    "\n",
    "print()\n",
    "print()\n",
    "\n",
    "qf = [0, np.pi/4, 0, np.pi/2, np.pi/2, 0]\n",
    "RobotTutorials.ComputeJac(qf)\n",
    "V_0N = RobotTutorials.oJ @ dq_dt\n",
    "print(\"For q_f:\")\n",
    "print(\"V_0N =\", np.around(V_0N, 3))"
   ]
  },
  {
   "cell_type": "markdown",
   "metadata": {},
   "source": [
    "__Q6.__ In the rest of the study, we restrict the analysis of operational end-effector velocities to translational velocities via ${}^0J_v \\left(q\\right)$.\n",
    "\n",
    "Qualify the transmission of velocities between the joint and task spaces for the corresponding $q_i$ and $q_f$ configurations: what is the preferred direction to transmit velocity in the task space when the manipulator configuration is $q_i$? Same question for $q_f$? What are the corresponding velocity manipulabilities? \n",
    "To help, you can program a function $QualifyVelocityTransmission(self)$ that analyses the property of the Jacobian matrix. Explain your results."
   ]
  },
  {
   "cell_type": "code",
   "execution_count": 14,
   "metadata": {},
   "outputs": [],
   "source": [
    "def QualifyVelocityTransmission(self):\n",
    "    \"\"\" \n",
    "    Qualifying the transmission of velocities\n",
    "              \n",
    "    Input:\n",
    "       - Jacobian matrix \"self.oJ\" to be analysed\n",
    "     \n",
    "    Outputs: \n",
    "       - To be defined...\n",
    "    \"\"\"\n",
    "    \n",
    "    # To be completed...\n",
    "\n",
    "RobotModel.QualifyVelocityTransmission = QualifyVelocityTransmission "
   ]
  },
  {
   "cell_type": "code",
   "execution_count": 15,
   "metadata": {},
   "outputs": [],
   "source": [
    "#TODO\n",
    "#TODO\n",
    "#TODO\n",
    "#TODO\n",
    "#TODO\n",
    "#TODO\n",
    "#TODO\n",
    "#TODO\n",
    "#TODO\n",
    "#TODO\n",
    "#TODO"
   ]
  },
  {
   "cell_type": "code",
   "execution_count": null,
   "metadata": {},
   "outputs": [],
   "source": []
  },
  {
   "cell_type": "markdown",
   "metadata": {},
   "source": [
    "## Inverse geometric model"
   ]
  },
  {
   "cell_type": "markdown",
   "metadata": {},
   "source": [
    "__Q7.__ In this study, the resolution of the inverse geometric model is considered numerically by exploiting the inverse differential model. Moreover, the study is restricted to the position only of the robot's end-effector frame in the task space (no constraint on the orientation of the end-effector frame).\n",
    "\n",
    "Using an iterative procedure exploiting the pseudo-inverse of the Jacobian matrix, program a function $ComputeIGM(\\text{self}, X_d, q_0, k_{max}, \\epsilon_x)$ having as input arguments the desired task position $X_d$ and the initial condition $q_0$. Both the maximum number of iterations $k_{max}$ of the algorithm and the norm of the tolerated Cartesian error $|X_d - DGM(q_{k})|<\\epsilon_x$, define the stopping criteria of the algorithm."
   ]
  },
  {
   "cell_type": "code",
   "execution_count": 16,
   "metadata": {},
   "outputs": [],
   "source": [
    "def ComputeIGM(self, X_d, q_0, k_max, eps_x):    \n",
    "   \"\"\" \n",
    "   Computation of the Inverse Geometric Model (IGM) mapping the Cartesian pose to the joint vector \"q\"\n",
    "            \n",
    "   Inputs: \n",
    "      - Desired Cartesian vector \"X_d\" as a np.array to be reached by the robot \n",
    "      - Initial condition \"q_0\" as a np.array\n",
    "      - Number \"k_max\" of maximal iteration in the recursive algorithm \n",
    "      - Norm of the tolerated Cartesian error \"eps_x\"\n",
    "   \n",
    "   Outputs: \n",
    "      - List \"self.list_q_IGM\" of the joint vectors computed at each iteration of the recursive algorithm \n",
    "      - Returned \"self.list_q_IGM[-1]\" of the final found joint vector, solution of the IGM\n",
    "      \n",
    "   \"\"\"\n",
    "   \n",
    "   k = 0\n",
    "   self.ComputeDGM(q_0)\n",
    "   self.ComputeToolPose()\n",
    "   fq = self.g_0E[:3, 3]\n",
    "   self.list_q_IGM = np.array([q_0])\n",
    "   \n",
    "   # Case of the Gradient-based method (alpha = 1)\n",
    "   while (np.linalg.norm(X_d - fq) > eps_x) and (k < k_max):\n",
    "      k += 1\n",
    "      \n",
    "      self.ComputeJac(self.list_q_IGM[k-1])\n",
    "      oJ= self.oJ\n",
    "      oJv = oJ[:3, :]\n",
    "      \n",
    "      self.ComputeDGM(self.list_q_IGM[k-1])\n",
    "      self.ComputeToolPose()\n",
    "      fq = self.g_0E[:3, 3]\n",
    "      \n",
    "      q_k = self.list_q_IGM[k-1] + (oJv.T @ (X_d - fq).reshape(3, 1)).flatten()\n",
    "      self.list_q_IGM = np.vstack((self.list_q_IGM, q_k))\n",
    "      \n",
    "   return self.list_q_IGM[-1]\n",
    "\n",
    "RobotModel.ComputeIGM = ComputeIGM "
   ]
  },
  {
   "cell_type": "markdown",
   "metadata": {},
   "source": [
    "Compute $q^{\\ast}$ when the function is called with the following arguments:\n",
    "\n",
    "a) $X_d=X_{d_i}=\\left(-0.1, -0.7, 0.3\\right)^t$, $q_0=\\left[ -1.57, 0.00 , -1.47, -1.47, -1.47 , -1.47 \\right.$ $\\left., -1.47 \\right]$, $k_{max}=100$, $\\epsilon_x=1$mm?\n",
    "\n",
    "b) $X_d=X_{d_f}=\\left(0.64 , -0.10, 1.14\\right)^t$, $q_0=\\left[ 0 , 0.80 , 0.00 , 1.00 , 2.00 , 0.00 \\right]$, $k_{max}=100$, $\\epsilon_x=1$mm?\n",
    "\n",
    "Check the accuracy of the results using the function calculated in __Q3.__"
   ]
  },
  {
   "cell_type": "code",
   "execution_count": 17,
   "metadata": {},
   "outputs": [
    {
     "name": "stdout",
     "output_type": "stream",
     "text": [
      "a)\n",
      "q_final = [-1.57  0.01 -1.52 -1.45 -1.48 -1.47]\n",
      "Cartesian Error = 0.0009410845893395774\n",
      "\n",
      "\n",
      "b)\n",
      "q_final = [-0.02  0.75 -0.1   1.    1.72  0.  ]\n",
      "Cartesian Error = 0.015972863253108316\n"
     ]
    }
   ],
   "source": [
    "print(\"a)\")\n",
    "X_d = np.array([-0.1, -0.7, 0.3])\n",
    "q_0 = np.array([-1.57, 0, -1.47, -1.47, -1.47, -1.47])\n",
    "k_max = 100\n",
    "eps_x = 0.001\n",
    "\n",
    "q_final = RobotTutorials.ComputeIGM(X_d, q_0, k_max, eps_x)\n",
    "print(\"q_final =\", np.around(q_final, 2))\n",
    "\n",
    "RobotTutorials.ComputeDGM(q_final)\n",
    "RobotTutorials.ComputeToolPose()\n",
    "f_q_final = RobotTutorials.g_0E[:3, 3]\n",
    "print(\"Cartesian Error =\", np.linalg.norm(X_d - f_q_final))\n",
    "\n",
    "print()\n",
    "print()\n",
    "\n",
    "print(\"b)\")\n",
    "X_d = np.array([0.64, -0.1, 1.14])\n",
    "q_0 = np.array([0, 0.8, 0, 1, 2, 0])\n",
    "k_max = 100\n",
    "eps_x = 0.001\n",
    "\n",
    "q_final = RobotTutorials.ComputeIGM(X_d, q_0, k_max, eps_x)\n",
    "print(\"q_final =\", np.around(q_final, 2))\n",
    "\n",
    "RobotTutorials.ComputeDGM(q_final)\n",
    "RobotTutorials.ComputeToolPose()\n",
    "f_q_final = RobotTutorials.g_0E[:3, 3]\n",
    "print(\"Cartesian Error =\", np.linalg.norm(X_d - f_q_final))"
   ]
  },
  {
   "cell_type": "markdown",
   "metadata": {},
   "source": [
    "## Inverse kinematic model"
   ]
  },
  {
   "cell_type": "markdown",
   "metadata": {},
   "source": [
    "In this question, the trajectory of the end-effector to be followed in the task space must allow the desired final position $X_{d_f}$ to be reached by following a straight line in the task space starting at the initial position $X_{d_i}$. This rectilinear motion is carried out at a constant speed $V=1m.s^{-1}$ and is sampled at a period $T_e=1$ms. The position of the end effector at the time instant $kT_e$ is noted $X_{d_k}$. The initial configuration of the robot is given by $q_i$ (found in question __Q4.__).\n",
    "\n",
    "__Q8.__ Using the inverse differential kinematic model, write a function entitled $ComputeIKM( \\text{self}, X_{d_i}, X_{d_f}, V, T_e, q_i)$ realizing the coordinate transform to provide the series of setpoint values $q_{d_k}$ corresponding to the $X_{d_k}$ to the joint drivers. To do this, after having programmed the time law corresponding to the required motion, you can use the function developed in question __Q7__ capable of calculating the iterative MGI from the pseudo-inverse of the Jacobian matrix."
   ]
  },
  {
   "cell_type": "code",
   "execution_count": 18,
   "metadata": {},
   "outputs": [],
   "source": [
    "def ComputeIKM(self, X_d_i, X_d_f, V, Te, q_i, k_max, eps_x):    \n",
    "        \"\"\" \n",
    "        Computation of the Inverse differential Kinematic Model (IKM) making the coordinate transform to provide the series of setpoint values qdk corresponding to the Xdk to the joint drivers\n",
    "        \n",
    "        Inputs: \n",
    "           - Trajectory of the end effector to be followed in the task space between:\n",
    "               - the initial position \"X_d_i\"\n",
    "               - the desired final position \"X_d_f\" to be reached.\n",
    "           - Rectilinear motion carried out:\n",
    "               - at a constant speed \"V\"\n",
    "               - sampled at a period \"Te\"\n",
    "           - Initial configuration of the robot \"q_i\"\n",
    "           - Number \"k_max\" of maximal iteration in the recursive algorithm (to be used with \"self.ComputeIGM\")\n",
    "           - Norm of the tolerated Cartesian error \"eps_x\" (to be used with \"self.ComputeIGM\")\n",
    "           \n",
    "        Outputs: \n",
    "           - List \"self.discreteTime\" that defines the the sampled temporal series for each time step\n",
    "           - List \"self.list_X_d_k\" of the intermediate Cartesian poses to be reached by the robot\n",
    "           - List \"self.list_q_dk\" of the joint vectors computed at each iteration k of the recursive algorithm (series of setpoint values qdk corresponding to the Xdk to the joint drivers)\n",
    "        \"\"\"\n",
    "        \n",
    "        distance = np.linalg.norm(X_d_f - X_d_i)\n",
    "        totalTime = distance / V\n",
    "        \n",
    "        step_distance = (V * Te * (X_d_f - X_d_i)) / distance\n",
    "        \n",
    "        t = 0\n",
    "        X_d_k = X_d_i\n",
    "        q_dk = q_i\n",
    "        self.discreteTime = np.array([t])\n",
    "        self.list_X_d_k = np.array([X_d_i])\n",
    "        self.list_q_dk = np.array([q_i])\n",
    "        while t <= totalTime:\n",
    "            # Update the sampled temporal series\n",
    "            t += Te\n",
    "            self.discreteTime = np.append(self.discreteTime, t)\n",
    "            \n",
    "            # Update the intermediate Cartesian pose\n",
    "            X_d_k += step_distance\n",
    "            self.list_X_d_k = np.vstack((self.list_X_d_k, X_d_k))\n",
    "            \n",
    "            # Update the joint vectors\n",
    "            q_dk = self.ComputeIGM(X_d_k, q_dk, k_max, eps_x)\n",
    "            self.list_q_dk = np.vstack((self.list_q_dk, q_dk))\n",
    "        \n",
    "\n",
    "RobotModel.ComputeIKM = ComputeIKM "
   ]
  },
  {
   "cell_type": "markdown",
   "metadata": {},
   "source": [
    "Check that the successively reached positions of the end-effector is following the desired trajectory. To do so, you can plot the error between the sequence of positions reached by the end device and the position set points at each time step."
   ]
  },
  {
   "cell_type": "code",
   "execution_count": 19,
   "metadata": {},
   "outputs": [
    {
     "data": {
      "image/png": "[encoded data removed]",
      "text/plain": [
       "<Figure size 640x480 with 1 Axes>"
      ]
     },
     "metadata": {},
     "output_type": "display_data"
    }
   ],
   "source": [
    "X_d_i = np.array([-0.1, -0.7, 0.3])\n",
    "X_d_f = np.array([0.64, -0.1, 1.14])\n",
    "V = 1\n",
    "Te = 0.001\n",
    "q_i = [-np.pi/2, 0, -np.pi/2, -np.pi/2, -np.pi/2, -np.pi/2]\n",
    "k_max = 100\n",
    "eps_x = 0.001\n",
    "\n",
    "RobotTutorials.ComputeIKM(X_d_i, X_d_f, V, Te, q_i, k_max, eps_x)\n",
    "\n",
    "cartesian_errors = np.array([0])\n",
    "for k in range(1, len(RobotTutorials.discreteTime)):\n",
    "    RobotTutorials.ComputeDGM(RobotTutorials.list_q_dk[k])\n",
    "    RobotTutorials.ComputeToolPose()\n",
    "    Xk = RobotTutorials.g_0E[:3, 3]\n",
    "    cartesian_errors = np.append(cartesian_errors, np.linalg.norm(RobotTutorials.list_X_d_k[k] - Xk))\n",
    "\n",
    "time = np.delete(RobotTutorials.discreteTime, 0)\n",
    "errors = np.delete(cartesian_errors, 0)\n",
    "\n",
    "# Plot the cartesian error at each time step\n",
    "plt.plot(time, errors, marker='o', linestyle='-', color='b')\n",
    "\n",
    "plt.xlabel('Time (s)')\n",
    "plt.ylabel('Cartesian error (m)')\n",
    "plt.title('Cartesian error at each time step')\n",
    "\n",
    "plt.grid(True)\n",
    "plt.show()\n"
   ]
  },
  {
   "cell_type": "markdown",
   "metadata": {},
   "source": [
    "__Q9.__ Plot the temporal evolution of the joint variables $q_1$ to $q_6$ calculated in the previous question. For each joint variable, graphically overlay the allowable extreme values corresponding to the joint limits:\n",
    "\\begin{align*}\n",
    "q_{min} = \\left[\\begin{array}{c}{ -\\pi , -\\frac{\\pi}{2} , -\\pi , -\\pi , -\\frac{\\pi}{2}, -\\pi }\\end{array}\\right] \n",
    "\\end{align*}\n",
    "and\n",
    "\\begin{align*}\n",
    "q_{max} = \\left[\\begin{array}{c}{ 0 , \\frac{\\pi}{2} , 0  ,\\frac{\\pi}{2}, \\frac{\\pi}{2} , \\frac{\\pi}{2} }\\end{array}\\right] \n",
    "\\end{align*}"
   ]
  },
  {
   "cell_type": "code",
   "execution_count": 20,
   "metadata": {},
   "outputs": [
    {
     "data": {
      "image/png": "[encoded data removed]",
      "text/plain": [
       "<Figure size 640x480 with 1 Axes>"
      ]
     },
     "metadata": {},
     "output_type": "display_data"
    },
    {
     "data": {
      "image/png": "[encoded data removed]",
      "text/plain": [
       "<Figure size 640x480 with 1 Axes>"
      ]
     },
     "metadata": {},
     "output_type": "display_data"
    },
    {
     "data": {
      "image/png": "[encoded data removed]",
      "text/plain": [
       "<Figure size 640x480 with 1 Axes>"
      ]
     },
     "metadata": {},
     "output_type": "display_data"
    },
    {
     "data": {
      "image/png": "[encoded data removed]",
      "text/plain": [
       "<Figure size 640x480 with 1 Axes>"
      ]
     },
     "metadata": {},
     "output_type": "display_data"
    },
    {
     "data": {
      "image/png": "[encoded data removed]",
      "text/plain": [
       "<Figure size 640x480 with 1 Axes>"
      ]
     },
     "metadata": {},
     "output_type": "display_data"
    },
    {
     "data": {
      "image/png": "[encoded data removed]",
      "text/plain": [
       "<Figure size 640x480 with 1 Axes>"
      ]
     },
     "metadata": {},
     "output_type": "display_data"
    }
   ],
   "source": [
    "# Calculate joint vectors for each step\n",
    "X_d_i = np.array([-0.1, -0.7, 0.3])\n",
    "X_d_f = np.array([0.64, -0.1, 1.14])\n",
    "V = 1\n",
    "Te = 0.001\n",
    "q_i = [-np.pi/2, 0, -np.pi/2, -np.pi/2, -np.pi/2, -np.pi/2]\n",
    "k_max = 100\n",
    "eps_x = 0.001\n",
    "\n",
    "RobotTutorials.ComputeIKM(X_d_i, X_d_f, V, Te, q_i, k_max, eps_x)\n",
    "\n",
    "# Set the extreme values\n",
    "q_min = [-np.pi, -np.pi/2, -np.pi, -np.pi, -np.pi/2, -np.pi]\n",
    "q_max = [0, np.pi/2, 0, np.pi/2, np.pi/2, np.pi/2]\n",
    "\n",
    "# Plot the temporal evolution of the joint variables\n",
    "for i in range(6):\n",
    "    min_plot = np.full(len(RobotTutorials.list_q_dk), q_min[i])\n",
    "    max_plot = np.full(len(RobotTutorials.list_q_dk), q_max[i])\n",
    "    \n",
    "    qk = RobotTutorials.list_q_dk[:, i]\n",
    "    \n",
    "    plt.plot(RobotTutorials.discreteTime, min_plot, label='q_min')\n",
    "    plt.plot(RobotTutorials.discreteTime, max_plot, label='q_max')\n",
    "    plt.plot(RobotTutorials.discreteTime, qk, label='q{}'.format(i+1))\n",
    "\n",
    "    plt.xlabel('Time (s)')\n",
    "    plt.ylabel('q{} (rad)'.format(i+1))\n",
    "    plt.title('Temporal evolution of the joint variable q{}'.format(i+1))\n",
    "\n",
    "    plt.legend()\n",
    "    plt.show()\n"
   ]
  },
  {
   "cell_type": "markdown",
   "metadata": {},
   "source": [
    "Comment on the evolution of the joint variables obtained previously."
   ]
  },
  {
   "cell_type": "code",
   "execution_count": 21,
   "metadata": {},
   "outputs": [],
   "source": [
    "#TODO\n",
    "#TODO\n",
    "#TODO\n",
    "#TODO\n",
    "#TODO\n",
    "#TODO\n",
    "#TODO\n",
    "#TODO\n",
    "#TODO\n",
    "#TODO\n",
    "#TODO"
   ]
  },
  {
   "cell_type": "markdown",
   "metadata": {},
   "source": [
    "__Q10.__ In this question, we modify the algorithm developed in question __Q8__. We wish to take into account the distance of the values taken by the joint variables from their limits in the computation of the inverse kinematic model.\n",
    "\n",
    "To do so, you will need to consider a secondary task aiming at keeping some distance from the articular stops $q_{min}$ and $q_{max}$. By the technique of the gradient projected into the null space of ${}^0J_v \\left(q\\right)$, you will consider minimizing the following potential function:\n",
    "\\begin{align*}\n",
    "\t\t\tH_{lim}\\left(q\\right) = \\sum_{i=1}^{n} \\left(\\frac{q_i-\\overline{q}_{i}}{q_{max}-q_{min}}\\right)^2 \\hspace{0.2cm} \\text{where} \\hspace{0.2cm} \\overline{q}_{i} =  \\frac{q_{max}+q_{min}}{2} \n",
    "\\end{align*}\n",
    "\n",
    "First, provide below the theoretical analytical solution for the joint variables to this problem."
   ]
  },
  {
   "cell_type": "code",
   "execution_count": 22,
   "metadata": {},
   "outputs": [],
   "source": [
    "#TODO\n",
    "#TODO\n",
    "#TODO\n",
    "#TODO\n",
    "#TODO\n",
    "#TODO\n",
    "#TODO\n",
    "#TODO\n",
    "#TODO\n",
    "#TODO\n",
    "#TODO"
   ]
  },
  {
   "cell_type": "markdown",
   "metadata": {},
   "source": [
    "Then, develop a new function $ComputeIKMlimits(\\text{self}, X_{d_i}, X_{d_f}, V, T_e, q_i, q_{min}, q_{max})$ which implements the inverse kinematic model able to take into account the previous secondary task."
   ]
  },
  {
   "cell_type": "code",
   "execution_count": 23,
   "metadata": {},
   "outputs": [],
   "source": [
    "def ComputeIKMlimits(self, X_d_i, X_d_f, V, Te, q_i, k_max, eps_x, q_min, q_max):    \n",
    "        \"\"\" \n",
    "        Computation of the Inverse differential Kinematic Model (IKM) making the coordinate transform to provide the series of setpoint values qdk corresponding to the Xdk to the joint drivers while taking into account the joint limits\n",
    "        \n",
    "        Inputs: \n",
    "           - Trajectory of the end effector to be followed in the task space between:\n",
    "               - the initial position \"X_d_i\"\n",
    "               - the desired final position \"X_d_f\" to be reached.\n",
    "           - Rectilinear motion carried out :\n",
    "               - at a constant speed \"V\"\n",
    "               - sampled at a period \"Te\"\n",
    "           - Initial configuration of the robot \"q_i\"\n",
    "           - Number \"k_max\" of maximal iteration in the recursive algorithm (to be used with \"self.ComputeIGM\")\n",
    "           - Norm of the tolerated Cartesian error \"eps_x\" (to be used with \"self.ComputeIGM\")\n",
    "           - Vector of lower bound of joint variable \"q_min\"\n",
    "           - Vector of upper bound of joint variable \"q_max\"\n",
    "           \n",
    "        Outputs: \n",
    "           - List \"self.list_q_dk_limits\" of the joint vectors computed at each iteration k of the recursive algorithm (series of setpoint values qdk corresponding to the Xdk to the joint drivers)\n",
    "           - List \"self.list_X_d_k\" of the intermediate Cartesian poses to be reached by the robot    \n",
    "        \"\"\"     \n",
    "        \n",
    "        # To be completed...\n",
    "        #TODO\n",
    "        #TODO\n",
    "        #TODO\n",
    "        #TODO\n",
    "        #TODO\n",
    "        #TODO\n",
    "        #TODO\n",
    "        #TODO\n",
    "        #TODO\n",
    "        #TODO\n",
    "        #TODO\n",
    "        \n",
    "            \n",
    "RobotModel.ComputeIKMlimits = ComputeIKMlimits\n",
    "\n"
   ]
  },
  {
   "cell_type": "markdown",
   "metadata": {},
   "source": [
    "Plot the new temporal evolution of the joint variables $q_1$ to $q_6$ for the reference trajectory given in the question __Q9__."
   ]
  },
  {
   "cell_type": "code",
   "execution_count": 24,
   "metadata": {},
   "outputs": [],
   "source": [
    "#TODO\n",
    "#TODO\n",
    "#TODO\n",
    "#TODO\n",
    "#TODO\n",
    "#TODO\n",
    "#TODO\n",
    "#TODO\n",
    "#TODO\n",
    "#TODO\n",
    "#TODO"
   ]
  },
  {
   "cell_type": "markdown",
   "metadata": {},
   "source": [
    "Comment on the values taken by the joint variables."
   ]
  },
  {
   "cell_type": "code",
   "execution_count": 25,
   "metadata": {},
   "outputs": [],
   "source": [
    "#TODO\n",
    "#TODO\n",
    "#TODO\n",
    "#TODO\n",
    "#TODO\n",
    "#TODO\n",
    "#TODO\n",
    "#TODO\n",
    "#TODO\n",
    "#TODO\n",
    "#TODO"
   ]
  },
  {
   "cell_type": "markdown",
   "metadata": {},
   "source": [
    "# Robotics - Tutorial 2 : Dynamics and control"
   ]
  },
  {
   "cell_type": "markdown",
   "metadata": {},
   "source": [
    "## Introduction"
   ]
  },
  {
   "cell_type": "markdown",
   "metadata": {},
   "source": [
    "We propose to study the dynamic modeling and control of the previous robot manipulator developed by the *Interactive Robotics Laboratory* of the *CEA List*. Its geometric and kinematic models were studied in Tutorial 1.\n",
    "This is a continuation of Tutorial 1. Solutions of questions from tutorial 1 are sometimes required for some of the questions of the present tutorial.\n",
    "\n",
    "The numerical values of the robot parameters, required for the completion of this tutorial, are specified in the table below.\n",
    "\n",
    "$$\n",
    "\\begin{aligned}\n",
    "& \\text {Table. Numerical values of some robot parameters.}\\\\\n",
    "&\\begin{array}{cccc}\n",
    "\\hline\n",
    "\t\t\\text{Parameters} &\t\\text{Numerical values} &\t\\text{Type of parameter} \\\\ \n",
    "\t\t\\hline\n",
    "\t\t\t\tx_{G_1}, y_{G_1}, z_{G_1} & 0m, 0m, -0.25m & \\text{Coordinates of G_1 given in frame } \\mathcal{R}_1 \\\\\n",
    "\t\tx_{G_2}, y_{G_2}, z_{G_2} & 0.35m, 0m, 0m & \\text{Coordinates of G_2 given in frame } \\mathcal{R}_2 \\\\\n",
    "\t\tx_{G_3}, y_{G_3}, z_{G_3} & 0m, -0.1m, 0m & \\text{Coordinates of G_3 given in frame } \\mathcal{R}_3 \\\\\n",
    "\t\tx_{G_4}, y_{G_4}, z_{G_4} & 0m, 0m, 0m & \\text{Coordinates of G_4 given in frame } \\mathcal{R}_4 \\\\\n",
    "\t\tx_{G_5}, y_{G_5}, z_{G_5} & 0m, 0m, 0m & \\text{Coordinates of G_5 given in frame } \\mathcal{R}_5 \\\\\n",
    "\t\tx_{G_6}, y_{G_6}, z_{G_6} & 0m, 0m, 0m & \\text{Coordinates of G_6 given in frame } \\mathcal{R}_6 \\\\\n",
    "\t\tm_1 & 15.0kg & \\text{Mass of the body 1}\\\\\n",
    "\t\tm_2 & 10.0kg & \\text{Mass of the body 2}\\\\\n",
    "\t\tm_3 & 1.0kg & \\text{Mass of the body 3}\\\\\n",
    "\t\tm_4 & 7.0kg & \\text{Mass of the body 4}\\\\\n",
    "\t\tm_5 & 1.0kg & \\text{Mass of the body 5}\\\\\n",
    "\t\tm_6 & 0.5kg & \\text{Mass of the body 6}\\\\\n",
    "\t\tI_1 & \\begin{bmatrix} 0.80 & 0 & 0.05 \\\\ 0 & 0.80 & 0 \\\\ 0.05 & 0 & 0.10 \\end{bmatrix}_{\\mathcal{R}_{O_1}} kg.m^2 & \\text{Inertial tensor of the body 1}\\\\\n",
    "\t\tI_2 & \\begin{bmatrix} 0.10 & 0 & 0.10 \\\\ 0 & 1.50 & 0 \\\\ 0.10 & 0 & 1.50 \\end{bmatrix}_{\\mathcal{R}_{O_2}} kg.m^2 & \\text{Inertial tensor of the body 2}\\\\\n",
    "\t\tI_3 & \\begin{bmatrix} 0.05 & 0 & 0 \\\\ 0 & 0.01 & 0 \\\\ 0 & 0 & 0.05 \\end{bmatrix}_{\\mathcal{R}_{O_3}} kg.m^2 & \\text{Inertial tensor of the body 3}\\\\\n",
    "\t\tI_4 & \\begin{bmatrix} 0.50 & 0 & 0 \\\\ 0 & 0.50 & 0 \\\\ 0 & 0 & 0.05 \\end{bmatrix}_{\\mathcal{R}_{O_4}} kg.m^2 & \\text{Inertial tensor of the body 4}\\\\\n",
    "\t\tI_5 & \\begin{bmatrix} 0.01 & 0 & 0 \\\\ 0 & 0.01 & 0 \\\\ 0 & 0 & 0.01 \\end{bmatrix}_{\\mathcal{R}_{O_5}} kg.m^2 & \\text{Inertial tensor of the body 5}\\\\\n",
    "\t\tI_6 & \\begin{bmatrix} 0.01 & 0 & 0 \\\\ 0 & 0.01 & 0 \\\\ 0 & 0 & 0.01 \\end{bmatrix}_{\\mathcal{R}_{O_6}} kg.m^2 & \\text{Inertial tensor of the body 6}\\\\\n",
    "\t\tJ_{m_i} (i=1,\\ldots,6) &\t10\\times10^{-6} kg.m^2 & \\text{Moment of inertia of the actuator rotor} \t\\\\\n",
    "\t\tr_{red_i} (i=1,\\ldots,3) &\t100 & \\text{Reduction ratio}\t\\\\\n",
    "\t\tr_{red_i} (i=4,\\ldots,6) &\t70 & \\text{Reduction ratio}\t\\\\\t\n",
    "\t\tF_{v_1}, \\ldots, F_{v_6} &\t10 N.m.rad^{-1}.s & \\text{Joint viscous frictions} \t\\\\\n",
    "\t\t\\tau_{max_i} (i=1,\\ldots,6) &\t5 N.m & \\text{Maximal motor torques} \t\\\\\n",
    "\\hline\n",
    "\\end{array}\n",
    "\\end{aligned}\n",
    "$$\n",
    "\n",
    "The use of *Python* programming langage is required to perform this tutorial.\n",
    "\n",
    "In the following, you will still progressively update the previous *Dictionnary* in *Python* containing the robot parameters, named __robotParameters__.\n",
    "\n",
    "Please add the following items to the *Dicitionnary* as follows."
   ]
  },
  {
   "cell_type": "code",
   "execution_count": 26,
   "metadata": {},
   "outputs": [
    {
     "name": "stdout",
     "output_type": "stream",
     "text": [
      "Attribute (int): self.numberJoints =  6\n",
      "Attribute (list): self.jointsType =  ['R', 'R', 'R', 'R', 'R', 'R']\n",
      "Attribute (list - 0 if self.jointsType[i] == 'R' / 1 if self.jointsType[i] == 'P'): self.sigma =  [0, 0, 0, 0, 0, 0]\n",
      "Attribute (list - float): self.tableDHM =  [[0.0, 0.0, 0.0, 0.5], [1.5707963267948966, 0.0, 0.0, 0.0], [0.0, 0.7, 1.5707963267948966, 0.0], [1.5707963267948966, 0.0, 0.0, 0.2], [-1.5707963267948966, 0.0, 0.0, 0.0], [1.5707963267948966, 0.0, 0.0, 0.0]]\n",
      "Attribute (list - float): self.toolDHM =  [0, 0, 0, 0.1]\n",
      "Attribute (list - array of float): self.coordCentersMass =  [array([ 0.  ,  0.  , -0.25]), array([0.35, 0.  , 0.  ]), array([ 0. , -0.1,  0. ]), array([0, 0, 0]), array([0, 0, 0]), array([0, 0, 0])]\n"
     ]
    }
   ],
   "source": [
    "# Adding the coordinates of all centers of mass as a list of 3 coordinates\n",
    "x_G1 = 0 ; y_G1 = 0 ; z_G1 =-0.25\n",
    "x_G2 = 0.35 ; y_G2 = 0 ; z_G2 = 0\n",
    "x_G3 = 0 ; y_G3 = -0.1 ; z_G3 = 0    \n",
    "x_G4 = 0 ; y_G4 = 0 ; z_G4 = 0    \n",
    "x_G5 = 0 ; y_G5 = 0 ; z_G5 = 0 \n",
    "x_G6 = 0 ; y_G6 = 0 ; z_G6 = 0 \n",
    "robotParameters['coordCentersMass']=[ np.array([ x_G1, y_G1, z_G1]) , np.array([ x_G2, y_G2, z_G2 ]) , np.array([ x_G3, y_G3, z_G3 ]), np.array([ x_G4, y_G4, z_G4 ]) , np.array([ x_G5, y_G5, z_G5 ]) , np.array([ x_G6, y_G6, z_G6]) ]\n",
    "RobotTutorials = RobotModel( **robotParameters )"
   ]
  },
  {
   "cell_type": "markdown",
   "metadata": {},
   "source": [
    "The matrix form of the inverse dynamic model for rigid robot manipulator is recalled below:\n",
    "\\begin{align*}\n",
    "\t\t\t\tA\\left(q\\right)\\ddot q + C\\left(q, \\dot q\\right)\\dot q + G\\left(q \\right) + \\Gamma_f\\left(\\dot q\\right) = \\Gamma\n",
    "\\end{align*}\n",
    "with\n",
    "\\begin{align*}\n",
    " & A\\left(q\\right) \\in \\mathbb{R}^{6 \\times 6} \\text{ : inertia matrix, symmetric and positive definite}; \\\\\n",
    " & C\\left(q, \\dot q\\right)\\dot q \\in \\mathbb{R}^{6} \\text{ : vector of joint torques due to the Coriolis and centrifugal forces};\\\\\n",
    " & G\\left(q \\right)\\in \\mathbb{R}^{6} \\text{ : vector of joint torques due to gravity}; \\\\\n",
    " & \\Gamma_f\\left( \\dot q\\right)=\\begin{bmatrix} \\tau_{f_1} & \\ldots & \\tau_{f_6} \\end{bmatrix} ^t\\in \\mathbb{R}^{6} \\text{ : vector of joint friction torques}.\\\\\n",
    "\\end{align*}\n",
    "\n",
    "The vectors of joint positions, velocities and accelerations are denoted respectively $q = \\left[ q_1, \\ldots, q_6 \\right]^t$, $\\dot q = \\left[\\dot{q}_1, \\ldots, \\dot{q}_6 \\right]^t$, $\\ddot q = \\left[ \\ddot{q}_1, \\ldots,\\ddot{q}_6 \\right]^t$, and the vector of the joint torques is denoted $\\Gamma  = \\left[ \\tau _1, \\ldots,\\tau_6 \\right]^t$. The frames $\\mathcal{R}_i$ attached to the links of the robot have been defined in Tutorial 1, __Q1__."
   ]
  },
  {
   "cell_type": "markdown",
   "metadata": {},
   "source": [
    "__Q11.__ The objective of this question is to determine the velocity ${}{}^0V_{G_i}$ of the center of mass $G_i$ and the rotation speed ${}{}^0\\omega_i$ of all the rigid bodies $\\mathcal{C}_i$ in the frame $\\mathcal{R}_0$.\n",
    "\n",
    "Write a function $ComputeJacGi(\\text{self}, q)$ which returns the Jacobian matrices ${}{}^0J_{v_{G_i}}$ and ${}^0J_{\\omega_i}$ defined as follows:\n",
    "\\begin{align*}\n",
    "\t\t{}^0V_{G_i} ={}^0J_{v_{G_i}} \\left(q\\right) \\dot{q}   \\hspace{0.5cm} \\text{and} \\hspace{0.5cm} {}^0\\omega_{i} = {}^0J_{\\omega_i}\\left(q\\right)\\dot{q}.\n",
    "\\end{align*}\n",
    "\n",
    "To answer this question, are useful: the functions developed in question __Q3__ and the function $ComputeJac(\\text{self},q)$ developed in question __Q5__, providing the Jacobian ${}^0J_{O_E}$ which is used in the computation of the velocity ${}^0\\mathcal{V}_{0,E}$ of the end-effector $O_E$."
   ]
  },
  {
   "cell_type": "code",
   "execution_count": 27,
   "metadata": {},
   "outputs": [],
   "source": [
    "def ComputeJacGi(self, q_cur):\n",
    "   \"\"\" \n",
    "   Computation of the list of the Jacobian matrices mapping the joint velocities to the velocities of the centers of mass Gi for all the rigid bodies Ci in the frame R0 for a joint configuration \"q_cur\"\n",
    "            \n",
    "   Inputs: \n",
    "      - List of the successive resulting homogeneous transform matrices \"self.list_g_0i\"\n",
    "      - Direct Geometric Model through homogeneous matrix \"self.g_0E\"\n",
    "      - List \"self.coordCentersMass\" of the coordinates of the centers of mass of all the bodies\n",
    "      - Number of joints \"self.numberJoints\"\n",
    "      - Current configuration \"q_cur\"\n",
    "\n",
    "   Outputs: \n",
    "      - List \"self.list_oJGi\" of all the full Jacobian matrices 0_JGi in R_0 as a np.array\n",
    "      - List \"self.list_oJ_VGi\" of all the submatrices of Jacobian matrices 0_JGi in R_0 related to the translational velocities as a np.array\n",
    "      - List \"self.list_oJ_wGi\" of all the submatrices of Jacobian matrices 0_JGi in R_0 related to the angular velocities as a np.array\n",
    "      \n",
    "   \"\"\"\n",
    "   \n",
    "   self.ComputeJac(q_cur)\n",
    "\n",
    "   for i in range(self.numberJoints):\n",
    "      # Using Varignon formula\n",
    "      g_0i = self.list_g_0i[i]\n",
    "      O_nG_i = (g_0i[:3, 3] - self.g_0E[:3, 3]) + g_0i[:3, :3] @ self.coordCentersMass[i]\n",
    "      matrix_O_nG_i = np.array([[0, -O_nG_i[2], O_nG_i[1]],\n",
    "                                [O_nG_i[2], 0, -O_nG_i[0]],\n",
    "                                [-O_nG_i[1], O_nG_i[0], 0]])\n",
    "      \n",
    "      oJGi_matrix1 = np.block([[np.eye(3), -matrix_O_nG_i],\n",
    "                          [np.zeros((3, 3)), np.eye(3)]])\n",
    "      \n",
    "      oJGi_matrix2 = np.concatenate((self.oJ[:, :i+1], np.zeros((6, self.numberJoints-i-1))), axis=1)\n",
    "      \n",
    "      oJGi = oJGi_matrix1 @ oJGi_matrix2\n",
    "      oJ_VGi = oJGi[:3, :]\n",
    "      oJ_wGi = oJGi[3:, :]\n",
    "      \n",
    "      if i == 0:\n",
    "         self.list_oJ_VGi = [oJ_VGi]\n",
    "         self.list_oJ_wGi = [oJ_wGi]\n",
    "         self.list_oJGi = [np.vstack((oJ_VGi, oJ_wGi))]\n",
    "      else:\n",
    "         self.list_oJ_VGi.append(oJ_VGi)\n",
    "         self.list_oJ_wGi.append(oJ_wGi)\n",
    "         self.list_oJGi.append(np.vstack((oJ_VGi, oJ_wGi)))\n",
    "      \n",
    "\n",
    "RobotModel.ComputeJacGi = ComputeJacGi"
   ]
  },
  {
   "cell_type": "markdown",
   "metadata": {},
   "source": [
    "Evaluate the Jacobian matrices ${}^0J_{v_{G_6}} \\left(q\\right)$ and ${}^0J_{\\omega_6}\\left(q\\right)$ for $q = \\left[\\pi/4, -\\pi/8, -\\pi/3, 0, -\\pi/2, -\\pi/7  \\right]^t$.\n"
   ]
  },
  {
   "cell_type": "code",
   "execution_count": 28,
   "metadata": {},
   "outputs": [
    {
     "name": "stdout",
     "output_type": "stream",
     "text": [
      "oJ_VG6 = [[-0.476  0.33   0.14  -0.    -0.    -0.   ]\n",
      " [ 0.476  0.33   0.14   0.     0.     0.   ]\n",
      " [ 0.     0.673  0.026 -0.    -0.    -0.   ]]\n",
      "oJ_wG6 = [[ 0.     0.707  0.707  0.092  0.707 -0.701]\n",
      " [ 0.    -0.707 -0.707  0.092 -0.707 -0.701]\n",
      " [ 1.     0.     0.    -0.991  0.    -0.131]]\n"
     ]
    }
   ],
   "source": [
    "q = [np.pi/4, -np.pi/8, -np.pi/3, 0, -np.pi/2, -np.pi/7]\n",
    "RobotTutorials.ComputeJacGi(q)\n",
    "print(\"oJ_VG6 =\", np.around(RobotTutorials.list_oJ_VGi[-1], 3))\n",
    "print(\"oJ_wG6 =\", np.around(RobotTutorials.list_oJ_wGi[-1], 3))"
   ]
  },
  {
   "cell_type": "markdown",
   "metadata": {},
   "source": [
    "__Q12.__ Write a function $ComputeMatInert\\left(\\text{self}, q\\right)$ returning the inertia matrix $A\\left(q\\right) \\in \\mathbb{R}^{6 \\times 6}$ of the robot.\n",
    "\n",
    "To this end, take into account the inertia tensors $I_i$ expressed in their frames $\\mathcal{R}_{i}$ of origin $O_i$ (you will need to express the inertia tensors in the frame $\\mathcal{R}_{i}$ of origin $G_i$ using the *Huygens* theorem) and the mass $m_i$ of each body $\\mathcal{C}_i$.\n",
    "Moreover, the actuator inertia contributions $J_{m_i}$ ($i=1,\\ldots,6$) taken after the joint level will be added the diagonal of $A\\left(q\\right)$ (reduction ratios $r_{red_i}$ and inertia $J_{m_i}$ are provided in the table above."
   ]
  },
  {
   "cell_type": "markdown",
   "metadata": {},
   "source": [
    "Please start adding the following mass, inertia and reduction ratio items to the *Dicitionnary* as follows."
   ]
  },
  {
   "cell_type": "code",
   "execution_count": 29,
   "metadata": {},
   "outputs": [
    {
     "name": "stdout",
     "output_type": "stream",
     "text": [
      "Attribute (int): self.numberJoints =  6\n",
      "Attribute (list): self.jointsType =  ['R', 'R', 'R', 'R', 'R', 'R']\n",
      "Attribute (list - 0 if self.jointsType[i] == 'R' / 1 if self.jointsType[i] == 'P'): self.sigma =  [0, 0, 0, 0, 0, 0]\n",
      "Attribute (list - float): self.tableDHM =  [[0.0, 0.0, 0.0, 0.5], [1.5707963267948966, 0.0, 0.0, 0.0], [0.0, 0.7, 1.5707963267948966, 0.0], [1.5707963267948966, 0.0, 0.0, 0.2], [-1.5707963267948966, 0.0, 0.0, 0.0], [1.5707963267948966, 0.0, 0.0, 0.0]]\n",
      "Attribute (list - float): self.toolDHM =  [0, 0, 0, 0.1]\n",
      "Attribute (list - array of float): self.coordCentersMass =  [array([ 0.  ,  0.  , -0.25]), array([0.35, 0.  , 0.  ]), array([ 0. , -0.1,  0. ]), array([0, 0, 0]), array([0, 0, 0]), array([0, 0, 0])]\n",
      "Attribute (list - array of float): self.inertiaLinks =  [array([[0.8 , 0.  , 0.05],\n",
      "       [0.  , 0.8 , 0.  ],\n",
      "       [0.05, 0.  , 0.1 ]]), array([[0.1, 0. , 0.1],\n",
      "       [0. , 1.5, 0. ],\n",
      "       [0.1, 0. , 1.5]]), array([[0.05, 0.  , 0.  ],\n",
      "       [0.  , 0.01, 0.  ],\n",
      "       [0.  , 0.  , 0.05]]), array([[0.5 , 0.  , 0.  ],\n",
      "       [0.  , 0.5 , 0.  ],\n",
      "       [0.  , 0.  , 0.05]]), array([[0.01, 0.  , 0.  ],\n",
      "       [0.  , 0.01, 0.  ],\n",
      "       [0.  , 0.  , 0.01]]), array([[0.01, 0.  , 0.  ],\n",
      "       [0.  , 0.01, 0.  ],\n",
      "       [0.  , 0.  , 0.01]])]\n",
      "Attribute (list - float): self.mass =  [15.0, 10.0, 1.0, 7.0, 1.0, 0.5]\n",
      "Attribute (list - float): self.motorInertia =  [1e-05, 1e-05, 1e-05, 1e-05, 1e-05, 1e-05]\n",
      "Attribute (list - float): self.reductionRatio =  [100.0, 100.0, 100.0, 70.0, 70.0, 70.0]\n"
     ]
    }
   ],
   "source": [
    "# Adding the inertia matrices of all links as a list of matrices\n",
    "I1 = np.array( [ [ 0.8 , 0. , 0.05] , [ 0. , 0.8 , 0.] , [ 0.05 , 0. , 0.1] ] )\n",
    "I2 = np.array( [ [ 0.1 , 0. , 0.1] , [ 0. , 1.5 , 0.] , [ 0.1 , 0. , 1.5] ] )\n",
    "I3 = np.array( [ [ 0.05 , 0. , 0.] , [ 0. , 0.01 , 0.] , [ 0. , 0. , 0.05] ] )\n",
    "I4 = np.array( [ [ 0.5 , 0. , 0.] , [ 0. , 0.5 , 0.] , [ 0. , 0. , 0.05] ] )\n",
    "I5 = np.array( [ [ 0.01 , 0. , 0.] , [ 0. , 0.01 , 0.] , [ 0. , 0. , 0.01] ] )\n",
    "I6 = np.array( [ [ 0.01 , 0. , 0.] , [ 0. , 0.01 , 0.] , [ 0. , 0. , 0.01] ] )\n",
    "robotParameters['InertiaLinks']=[ I1 , I2 , I3 , I4 , I5 , I6 ]\n",
    "# Adding the mass property of all links as a list of scalar\n",
    "m1 = 15. ; m2 = 10. ; m3 = 1. ; m4 = 7. ; m5 = 1. ; m6 = 0.5\n",
    "robotParameters['Mass']=[ m1 , m2 , m3 , m4 , m5 , m6 ]\n",
    "# Adding the moment of inertia of the actuator rotors\n",
    "Jm1 = Jm2 = Jm3 = Jm4 = Jm5 = Jm6 = 1e-05\n",
    "robotParameters['MotorInertia']=[ Jm1 , Jm2 , Jm3 , Jm4 , Jm5 , Jm6 ]\n",
    "# Adding the reduction ratio \n",
    "r_red1 = r_red2 = r_red3 = 100. ; r_red4 = r_red5 = r_red6 = 70.  \n",
    "robotParameters['ReductionRatio']=[ r_red1 , r_red2 , r_red3 , r_red4 , r_red5 , r_red6 ]\n",
    "RobotTutorials = RobotModel( **robotParameters )"
   ]
  },
  {
   "cell_type": "code",
   "execution_count": 30,
   "metadata": {},
   "outputs": [],
   "source": [
    "def ComputeMatInert(self, q_cur):\n",
    "   \"\"\" \n",
    "   Computation of the inertia matrix of a robot evaluated at a joint configuration \"q_cur\"\n",
    "            \n",
    "   Inputs: \n",
    "      - List \"self.inertiaLinks\" of the inertia matrix of each link\n",
    "      - List \"self.mass\" of the mass of each link\n",
    "      - List \"self.motorInertia\" of the rotor inertia of each actuator\n",
    "      - List \"self.reductionRatio\" of the reduction ratios of each motor-to-joint transmission\n",
    "      - List \"self.coordCentersMass\" of the coordinates of the centers of mass of all the bodies\n",
    "      - Number of joints: \"self.numberJoints\"\n",
    "      - Current configuration \"q_cur\"\n",
    "      - List \"self.list_oJ_VGi\" of all the submatrices of Jacobian matrices 0_JGi in R_0 related to the translational velocities as a np.array\n",
    "      - List \"self.list_oJ_wGi\" of all the submatrices of Jacobian matrices 0_JGi in R_0 related to the angular velocities as a np.array\n",
    "      - List of the successive homogeneous transform matrices \"self.list_g_0i\"\n",
    "\n",
    "   Output: \n",
    "      - Matrix \"self.inertia\" of the robot evaluated at the joint configuration \"q_cur\"\n",
    "      \n",
    "   \"\"\"\n",
    "   \n",
    "   self.ComputeJacGi(q_cur)\n",
    "   self.inertia = np.zeros((self.numberJoints, self.numberJoints))\n",
    "   \n",
    "   for i in range(self.numberJoints):\n",
    "      \n",
    "      O_iG_i = self.coordCentersMass[i]\n",
    "      inertia_Gi = self.inertiaLinks[i] - self.mass[i]*np.array([[O_iG_i[1]**2 + O_iG_i[2]**2, -O_iG_i[0]*O_iG_i[1], -O_iG_i[0]*O_iG_i[2]],\n",
    "                                                                 [-O_iG_i[0]*O_iG_i[1], O_iG_i[0]**2 + O_iG_i[2]**2, -O_iG_i[1]*O_iG_i[2]],\n",
    "                                                                 [-O_iG_i[0]*O_iG_i[2], -O_iG_i[1]*O_iG_i[2], O_iG_i[0]**2 + O_iG_i[1]**2]])\n",
    "      R_0i = self.list_g_0i[i][:3, :3]\n",
    "      OInertia_i = R_0i @ inertia_Gi @ R_0i.T\n",
    "      \n",
    "      oJ_VGi = self.list_oJ_VGi[i]\n",
    "      oJ_wGi = self.list_oJ_wGi[i]\n",
    "      \n",
    "      self.inertia = self.inertia + (self.mass[i] * oJ_VGi.T @ oJ_VGi) + (oJ_wGi.T @ OInertia_i @ oJ_wGi)\n",
    "      \n",
    "      self.inertia[i, i] = self.inertia[i, i] + self.motorInertia[i] * self.reductionRatio[i]**2\n",
    "   \n",
    "        \n",
    "RobotModel.ComputeMatInert = ComputeMatInert"
   ]
  },
  {
   "cell_type": "markdown",
   "metadata": {},
   "source": [
    "Evaluate the inertia matrix $A\\left(q\\right)$ for $q = \\left[\\pi/4, -\\pi/8, -\\pi/3, 0, -\\pi/2, -\\pi/7  \\right]^t$."
   ]
  },
  {
   "cell_type": "code",
   "execution_count": 31,
   "metadata": {},
   "outputs": [
    {
     "name": "stdout",
     "output_type": "stream",
     "text": [
      "A(q) = [[ 5.8663e+00 -3.8300e-02  0.0000e+00 -6.9400e-02  0.0000e+00 -1.3000e-03]\n",
      " [-3.8300e-02  8.4250e+00  1.5400e+00 -0.0000e+00  2.0000e-02  0.0000e+00]\n",
      " [-0.0000e+00  1.5400e+00  1.0100e+00 -0.0000e+00  2.0000e-02  0.0000e+00]\n",
      " [-6.9400e-02  0.0000e+00  0.0000e+00  1.1900e-01  0.0000e+00  0.0000e+00]\n",
      " [ 0.0000e+00  2.0000e-02  2.0000e-02  0.0000e+00  6.9000e-02  0.0000e+00]\n",
      " [-1.3000e-03  0.0000e+00  0.0000e+00  0.0000e+00  0.0000e+00  5.9000e-02]]\n"
     ]
    }
   ],
   "source": [
    "q = [np.pi/4, -np.pi/8, -np.pi/3, 0, -np.pi/2, -np.pi/7]\n",
    "RobotTutorials.ComputeMatInert(q)\n",
    "print(\"A(q) =\", np.around(RobotTutorials.inertia, 4))"
   ]
  },
  {
   "cell_type": "markdown",
   "metadata": {},
   "source": [
    "__Q13.__ Using the computation of the eigenvalues of $A\\left(q\\right)$, write a function $ComputeBoundsInertia(\\text{self}, q_{min}, q_{max})$ that returns two scalar numbers $0<\\mu_1<\\mu_2$ for the lower and the upper bounds of the inertia matrix, i.e.\n",
    "\\begin{align*}\n",
    "\t\t\t\\mu_1 \\mathbb{I} \\preceq A\\left(q\\right) \\preceq \\mu_2 \\mathbb{I}\n",
    "\\end{align*}\n",
    "for joint angles comprised between limits $q_{min}$ et $q_{max}$ defined in question __Q9__."
   ]
  },
  {
   "cell_type": "code",
   "execution_count": 32,
   "metadata": {},
   "outputs": [],
   "source": [
    "def ComputeBoundsInertia(self, q_min, q_max):\n",
    "   \"\"\" \n",
    "   Computation of the upper and lower bounds of the inertia matrix of a robot using a random search\n",
    "            \n",
    "   Inputs: \n",
    "      - Vector of lower bound of joint variable \"q_min\"\n",
    "      - Vector of upper bound of joint variable \"q_max\"\n",
    "\n",
    "   Outputs: \n",
    "      - Scalar \"self.mu_min\" estimating the lower bound\n",
    "      - Scalar \"self.mu_max\" estimating the upper bound\n",
    "      \n",
    "   \"\"\"\n",
    "   \n",
    "   self.mu_min = np.inf\n",
    "   self.mu_max = 0\n",
    "   \n",
    "   q = q_min\n",
    "   step_q = (q_max - q_min) / np.linalg.norm(q_max - q_min)\n",
    "   while not np.any(q > q_max):\n",
    "      self.ComputeMatInert(q)\n",
    "      eigenvalues = np.linalg.eigvals(self.inertia)\n",
    "      if np.min(eigenvalues) < self.mu_min:\n",
    "         self.mu_min = np.min(eigenvalues)\n",
    "      if np.max(eigenvalues) > self.mu_max:\n",
    "         self.mu_max = np.max(eigenvalues)\n",
    "      \n",
    "      q += step_q\n",
    "\n",
    "RobotModel.ComputeBoundsInertia = ComputeBoundsInertia"
   ]
  },
  {
   "cell_type": "markdown",
   "metadata": {},
   "source": [
    "What are the two scalar numbers $\\mu_1$ and $\\mu_2$ found using your function?"
   ]
  },
  {
   "cell_type": "code",
   "execution_count": 33,
   "metadata": {},
   "outputs": [
    {
     "name": "stdout",
     "output_type": "stream",
     "text": [
      "0.0574\n",
      "10.1941\n"
     ]
    }
   ],
   "source": [
    "q_min = np.array([-np.pi, -np.pi/2, -np.pi, -np.pi, -np.pi/2, -np.pi])\n",
    "q_max = np.array([0, np.pi/2, 0, np.pi/2, np.pi/2, np.pi/2])\n",
    "\n",
    "RobotTutorials.ComputeBoundsInertia(q_min, q_max)\n",
    "\n",
    "print(np.around(RobotTutorials.mu_min, 4))\n",
    "print(np.around(RobotTutorials.mu_max, 4))"
   ]
  },
  {
   "cell_type": "markdown",
   "metadata": {},
   "source": [
    "__Q14.__ Write a function $ComputeGravTorque\\left(\\text{self}, q\\right)$ returning the vector of joint torques due to the gravity $G\\left(q \\right)\\in \\mathbb{R}^{6}$. \n",
    "The analytical expression of the gradient of the potential energy $E_p\\left(q\\right) = g^t \\left(\\sum_{i=1}^6 m_i {}{}^0p_{G_i}\\left(q\\right)\\right)$ can be used, that is:\n",
    "\\begin{align*}\n",
    "\t\t\tG\\left(q \\right) = -\\left( {}^0J_{v_{G_1}}^t m_1 g  + \\ldots + {}^0J_{v_{G_6}}^t  m_6 g \\right) \n",
    "\\end{align*}\n",
    "where $g=\\begin{bmatrix} 0 & 0 & -9.81 \\end{bmatrix}^t$."
   ]
  },
  {
   "cell_type": "code",
   "execution_count": 34,
   "metadata": {},
   "outputs": [],
   "source": [
    "def ComputeGravTorque(self, q_cur):\n",
    "   \"\"\" \n",
    "   Computation of the vector of joint torques due to the gravity\n",
    "            \n",
    "   Inputs: \n",
    "      - Current joint positions \"q_cur\"\n",
    "      - Number of joints \"self.numberJoints\"\n",
    "      - Mass of each link: \"self.mass\"\n",
    "      - List \"self.list_oJ_VGi\" of all the submatrices of Jacobian matrices 0_JGi in R_0 related to the translational velocities\n",
    "\n",
    "   Output: \n",
    "      - Array of joint torques \"self.gravityTorques\"\n",
    "      \n",
    "   \"\"\"\n",
    "   \n",
    "   self.gravityTorques = np.zeros((self.numberJoints, 1))\n",
    "   g = np.array([[0], [0], [-9.81]])\n",
    "   \n",
    "   self.ComputeJacGi(q_cur)\n",
    "   \n",
    "   for i in range(self.numberJoints):\n",
    "      self.gravityTorques -= self.mass[i] * self.list_oJ_VGi[i].T @ g\n",
    "   \n",
    "   \n",
    "RobotModel.ComputeGravTorque = ComputeGravTorque"
   ]
  },
  {
   "cell_type": "markdown",
   "metadata": {},
   "source": [
    "Evaluate the gravity joint torque $G\\left(q\\right)$ for $q = \\left[\\pi/4, -\\pi/8, -\\pi/3, 0, -\\pi/2, -\\pi/7  \\right]^t$."
   ]
  },
  {
   "cell_type": "code",
   "execution_count": 35,
   "metadata": {},
   "outputs": [
    {
     "name": "stdout",
     "output_type": "stream",
     "text": [
      "G(q) = [[ 0.    ]\n",
      " [94.2969]\n",
      " [ 2.3048]\n",
      " [-0.    ]\n",
      " [-0.    ]\n",
      " [-0.    ]]\n"
     ]
    }
   ],
   "source": [
    "q = [np.pi/4, -np.pi/8, -np.pi/3, 0, -np.pi/2, -np.pi/7]\n",
    "RobotTutorials.ComputeGravTorque(q)\n",
    "print(\"G(q) =\", np.around(RobotTutorials.gravityTorques, 4))"
   ]
  },
  {
   "cell_type": "markdown",
   "metadata": {},
   "source": [
    "__Q16.__ Propose an upper bound $g_b$ of $\\left\\| G\\left(q\\right) \\right\\|_1$, such that:\n",
    "\\begin{align*}\n",
    "    \\forall q \\in \\left[q_{min},q_{max}\\right], \\hspace{0.2cm} \\left\\| G\\left(q\\right) \\right\\|_1 \\leq g_b \n",
    "\\end{align*}\n",
    "where $\\left\\| \\bullet \\right\\|_1$ denotes the norm $1$ of a vector.\n",
    "\n",
    "To do so, write a function $ComputeBoundsGravityTorques(\\text{self}, q_{min}, q_{max})$ that returns the bound $g_b$."
   ]
  },
  {
   "cell_type": "code",
   "execution_count": 36,
   "metadata": {},
   "outputs": [],
   "source": [
    "def ComputeBoundsGravityTorques(self, q_min, q_max):\n",
    "   \"\"\" \n",
    "   Computation of the upper and lower bounds of the gravity torque of a robot using a random search\n",
    "            \n",
    "   Inputs: \n",
    "      - Vector of lower bound of joint variable \"q_min\"\n",
    "      - Vector of upper bound of joint variable \"q_max\"\n",
    "\n",
    "   Output: \n",
    "      - Scalar \"self.gb\" estimating the upper bound of the gravity torque vector\n",
    "      \n",
    "   \"\"\"\n",
    "   \n",
    "   self.gb = 0\n",
    "   \n",
    "   q = q_min\n",
    "   step_q = (q_max - q_min) / np.linalg.norm(q_max - q_min)\n",
    "   \n",
    "   while not np.any(q > q_max):\n",
    "      self.ComputeGravTorque(q)\n",
    "      norm_G = np.linalg.norm(self.gravityTorques, ord=1)\n",
    "      if norm_G > self.gb:\n",
    "         self.gb = norm_G\n",
    "      \n",
    "      q += step_q\n",
    "   \n",
    "   \n",
    "   \n",
    "        \n",
    "RobotModel.ComputeBoundsGravityTorques = ComputeBoundsGravityTorques"
   ]
  },
  {
   "cell_type": "markdown",
   "metadata": {},
   "source": [
    "What is the scalar number $g_b$ found using your function?"
   ]
  },
  {
   "cell_type": "code",
   "execution_count": 37,
   "metadata": {},
   "outputs": [
    {
     "name": "stdout",
     "output_type": "stream",
     "text": [
      "gb = 117.2054\n"
     ]
    }
   ],
   "source": [
    "q_min = np.array([-np.pi, -np.pi/2, -np.pi, -np.pi, -np.pi/2, -np.pi])\n",
    "q_max = np.array([0, np.pi/2, 0, np.pi/2, np.pi/2, np.pi/2])\n",
    "\n",
    "RobotTutorials.ComputeBoundsGravityTorques(q_min, q_max)\n",
    "\n",
    "print(\"gb =\", np.around(RobotTutorials.gb, 4))"
   ]
  }
 ],
 "metadata": {
  "celltoolbar": "Format de la Cellule Texte Brut",
  "kernelspec": {
   "display_name": "Python 3",
   "language": "python",
   "name": "python3"
  },
  "language_info": {
   "codemirror_mode": {
    "name": "ipython",
    "version": 3
   },
   "file_extension": ".py",
   "mimetype": "text/x-python",
   "name": "python",
   "nbconvert_exporter": "python",
   "pygments_lexer": "ipython3",
   "version": "3.10.6"
  }
 },
 "nbformat": 4,
 "nbformat_minor": 2
}
